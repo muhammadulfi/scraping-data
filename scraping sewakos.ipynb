{
 "cells": [
  {
   "cell_type": "markdown",
   "metadata": {},
   "source": [
    "# Scraping sewakost.com data"
   ]
  },
  {
   "cell_type": "markdown",
   "metadata": {},
   "source": [
    "## Preparations"
   ]
  },
  {
   "cell_type": "code",
   "execution_count": 1,
   "metadata": {},
   "outputs": [],
   "source": [
    "# import some libraries\n",
    "import re\n",
    "import codecs\n",
    "import time\n",
    "import pyprind\n",
    "import pandas as pd\n",
    "import numpy as np\n",
    "\n",
    "import requests \n",
    "from bs4 import BeautifulSoup"
   ]
  },
  {
   "cell_type": "markdown",
   "metadata": {},
   "source": [
    "## Get all kos urls"
   ]
  },
  {
   "cell_type": "code",
   "execution_count": null,
   "metadata": {},
   "outputs": [],
   "source": [
    "# Getting kos urls\n",
    "# max_page were initiated manually by checking max page for each loc\n",
    "\n",
    "loc = 'all'\n",
    "\n",
    "if loc == 'jakarta':\n",
    "    page_url = 'https://www.sewakost.com/kost/search-results.html?action=search&post_form_key=listings_advanced&f%5BCategory_ID%5D=8&f%5Bcategory_parent_ids%5D=8&f%5Bsort_by%5D=0&f%5Bsort_type%5D=asc&search=Cari'\n",
    "    max_page = 246\n",
    "elif loc == 'bandung':\n",
    "    page_url = 'https://www.sewakost.com/kost/search-results.html?form=listings_quick&pills_listings_quick=listings_quick&f%5BCategory_ID%5D=35&f%5Bcategory_parent_ids%5D=17%2C35'\n",
    "    max_page = 52\n",
    "elif loc == 'surabaya':\n",
    "    page_url = 'https://www.sewakost.com/kost/search-results.html?action=search&post_form_key=listings_advanced&f%5Bkeyword_search%5D=&f%5Bkeyword_search_type%5D=2&f%5BCategory_ID%5D=37&f%5Bcategory_parent_ids%5D=19%2C37&f%5Bprice%5D%5Bfrom%5D=&f%5Bprice%5D%5Bto%5D=&f%5Bsort_by%5D=0&f%5Bsort_type%5D=asc&search=Cari'\n",
    "    max_page = 59\n",
    "elif loc == 'malang':\n",
    "    page_url = 'https://www.sewakost.com/kost/search-results.html?action=search&post_form_key=listings_advanced&f%5Bkeyword_search%5D=&f%5Bkeyword_search_type%5D=2&f%5BCategory_ID%5D=64&f%5Bcategory_parent_ids%5D=19%2C64&f%5Bprice%5D%5Bfrom%5D=&f%5Bprice%5D%5Bto%5D=&f%5Bsort_by%5D=0&f%5Bsort_type%5D=asc&search=Cari'\n",
    "    max_page = 28\n",
    "elif loc == 'jogja':\n",
    "    page_url = 'https://www.sewakost.com/kost/search-results.html?action=search&post_form_key=listings_advanced&f%5Bkeyword_search%5D=&f%5Bkeyword_search_type%5D=2&f%5BCategory_ID%5D=85&f%5Bcategory_parent_ids%5D=20%2C85&f%5Bprice%5D%5Bfrom%5D=&f%5Bprice%5D%5Bto%5D=&f%5Bsort_by%5D=0&f%5Bsort_type%5D=asc&search=Cari'\n",
    "    max_page = 8\n",
    "elif loc == 'semarang':\n",
    "    page_url = 'https://www.sewakost.com/kost/search-results.html?action=search&post_form_key=listings_advanced&f%5Bkeyword_search%5D=&f%5Bkeyword_search_type%5D=2&f%5BCategory_ID%5D=36&f%5Bcategory_parent_ids%5D=18%2C36&f%5Bprice%5D%5Bfrom%5D=&f%5Bprice%5D%5Bto%5D=&f%5Bsort_by%5D=0&f%5Bsort_type%5D=asc&search=Cari'\n",
    "    max_page = 35\n",
    "elif loc == 'solo':\n",
    "    page_url = 'https://www.sewakost.com/kost/search-results.html?action=search&post_form_key=listings_advanced&f%5Bkeyword_search%5D=&f%5Bkeyword_search_type%5D=2&f%5BCategory_ID%5D=91&f%5Bcategory_parent_ids%5D=18%2C91&f%5Bprice%5D%5Bfrom%5D=&f%5Bprice%5D%5Bto%5D=&f%5Bsort_by%5D=0&f%5Bsort_type%5D=asc&search=Cari'\n",
    "    max_page = 7\n",
    "elif loc == 'all':\n",
    "    page_url = 'https://www.sewakost.com/kost/search-results.html?form=listings_quick&pills_listings_quick=listings_quick&f%5BCategory_ID%5D=&f%5Bcategory_parent_ids%5D='\n",
    "    max_page = 733\n"
   ]
  },
  {
   "cell_type": "code",
   "execution_count": null,
   "metadata": {},
   "outputs": [],
   "source": [
    "# testing response\n",
    "response = requests.get(page_url)\n",
    "response.status_code"
   ]
  },
  {
   "cell_type": "code",
   "execution_count": null,
   "metadata": {},
   "outputs": [],
   "source": [
    "# getting all kost url in location\n",
    "kos_urls = []\n",
    "html = BeautifulSoup(response.content, 'html.parser')\n",
    "page = 1\n",
    "bar = pyprind.ProgBar(max_page, track_time=True, title='Scraping kos urls for {}'.format(loc))\n",
    "while page <= max_page:\n",
    "    kos_tags = html.find_all('div', class_='main-column clearfix')\n",
    "    for kos_url in kos_tags:\n",
    "        kos_urls.append(kos_url.find('a').get('href'))\n",
    "    \n",
    "    next_page_url = html.find('a', class_='button', title='Next page')\n",
    "    response = requests.get(next_page_url.get('href'))\n",
    "    html = BeautifulSoup(response.content, 'html.parser')\n",
    "    page +=1\n",
    "    bar.update()\n",
    "    \n",
    "\n",
    "# saving founded url\n",
    "kos_url_file = open('url_{}.txt'.format(loc),  'w',  encoding=\"utf-8\")\n",
    "for url in kos_urls:\n",
    "    kos_url_file.write('{}\\n'.format(url))"
   ]
  },
  {
   "cell_type": "markdown",
   "metadata": {},
   "source": [
    "## Get kos data\n"
   ]
  },
  {
   "cell_type": "code",
   "execution_count": 2,
   "metadata": {},
   "outputs": [
    {
     "data": {
      "text/plain": [
       "17575"
      ]
     },
     "execution_count": 2,
     "metadata": {},
     "output_type": "execute_result"
    }
   ],
   "source": [
    "# move list from file of url to list\n",
    "kos_list = open('url_all.txt',  'r',  encoding=\"utf-8\")\n",
    "kos_urls = []\n",
    "for kos in kos_list:\n",
    "    kos_urls.append(kos)\n",
    "    \n",
    "len(kos_urls)"
   ]
  },
  {
   "cell_type": "code",
   "execution_count": 13,
   "metadata": {},
   "outputs": [
    {
     "name": "stdout",
     "output_type": "stream",
     "text": [
      "5000 5000 7575\n"
     ]
    }
   ],
   "source": [
    "# batch, coz it takes some time\n",
    "batch1 = kos_urls[:5000]\n",
    "batch2 = kos_urls[5000:10000]\n",
    "batch3 = kos_urls[10000:]\n",
    "\n",
    "print(len(batch1), len(batch2), len(batch3))"
   ]
  },
  {
   "cell_type": "code",
   "execution_count": null,
   "metadata": {},
   "outputs": [],
   "source": [
    "# get data and save it to list variable\n",
    "# time.sleep with random delay so it wont be recognized as ddos \n",
    "titles, owners, jeniss, alamats, no_hps, no_was = [], [], [], [], [], []\n",
    "\n",
    "data = 'batch1'\n",
    "if data == 'batch1':\n",
    "    urls = batch1\n",
    "elif data == 'batch2':\n",
    "    urls = batch2\n",
    "elif data == 'batch3':\n",
    "    urls = batch3\n",
    "\n",
    "bar = pyprind.ProgBar(len(urls), track_time=True, title='Scraping {} kos data'.format(data))\n",
    "\n",
    "for kos_url in urls:\n",
    "    response = requests.get(kos_url)\n",
    "    kos_page = BeautifulSoup(response.content, 'html.parser')\n",
    "\n",
    "    try:\n",
    "        title = kos_page.find('ol').text\n",
    "        print(title)\n",
    "    except:\n",
    "        title = '-'\n",
    "\n",
    "    print(title)\n",
    "    try:\n",
    "        jenis = kos_page.find(id='df_field_jenis')\n",
    "        jenis = jenis.find(class_='value').text\n",
    "        jenis = str(jenis).replace('\\n', '')\n",
    "    except:\n",
    "        jenis = '-'\n",
    "\n",
    "    try:\n",
    "        alamat = kos_page.find(id='df_field_address')\n",
    "        alamat = alamat.find(class_='value').text\n",
    "        alamat = str(alamat).replace('\\n', '')\n",
    "    except:\n",
    "        alamat = '-'\n",
    "\n",
    "    try:\n",
    "        owner = kos_page.find(class_='seller-info')\n",
    "        owner = owner.find(class_='name').text\n",
    "    except:\n",
    "        owner = '-'\n",
    "\n",
    "    try:\n",
    "        no_hp = kos_page.find(id='df_field_nomorhp')\n",
    "        no_hp = no_hp.find(class_='value').text\n",
    "        no_hp = str(no_hp).replace('\\n', '')\n",
    "    except:\n",
    "        no_hp = '-'\n",
    "\n",
    "    try:\n",
    "        no_wa = kos_page.find(id='df_field_whatsapp')\n",
    "        no_wa = no_wa.find(class_='value').text\n",
    "        no_wa = str(no_wa).replace('\\n', '')\n",
    "    except:\n",
    "        no_wa = '-'\n",
    "    \n",
    "    titles.append(title)\n",
    "    jeniss.append(jenis)\n",
    "    alamats.append(alamat)\n",
    "    owners.append(owner)\n",
    "    no_hps.append(no_hp)\n",
    "    no_was.append(no_wa)    \n",
    "    delays = [7, 4, 6, 2, 10, 19]\n",
    "    delay = np.random.choice(delays)\n",
    "    time.sleep(delay)\n",
    "    bar.update()"
   ]
  },
  {
   "cell_type": "code",
   "execution_count": 8,
   "metadata": {},
   "outputs": [],
   "source": [
    "# saving data to file \n",
    "\n",
    "kos_title_file = open('.\\\\scraping\\\\{}\\\\title_kos.txt'.format(data),  'w',  encoding=\"utf-8\")\n",
    "for title in titles:\n",
    "    kos_title_file.write('{}\\n'.format(title))\n",
    "\n",
    "kos_jenis_file = open('.\\\\scraping\\\\{}\\\\jenis_kos.txt'.format(data),  'w',  encoding=\"utf-8\")\n",
    "for jenis in jeniss:\n",
    "    kos_jenis_file.write('{}\\n'.format(jenis))\n",
    "\n",
    "kos_alamat_file = open('.\\\\scraping\\\\{}\\\\alamat_kos.txt'.format(data),  'w',  encoding=\"utf-8\")\n",
    "for alamat in alamats:\n",
    "    kos_alamat_file.write('{}\\n'.format(alamat))\n",
    "\n",
    "kos_nohp_file = open('.\\\\scraping\\\\{}\\\\nohp_kos.txt'.format(data),  'w',  encoding=\"utf-8\")\n",
    "for no_hp in no_hps:\n",
    "    kos_nohp_file.write('{}\\n'.format(no_hp))\n",
    "\n",
    "kos_nowa_file = open('.\\\\scraping\\\\{}\\\\nowa_kos.txt'.format(data),  'w',  encoding=\"utf-8\")\n",
    "for no_wa in no_was:\n",
    "    kos_nowa_file.write('{}\\n'.format(no_wa))\n",
    "\n",
    "kos_owner_file = open('.\\\\scraping\\\\{}\\\\owner_kos.txt'.format(data),  'w',  encoding=\"utf-8\")\n",
    "for owner in owners:\n",
    "    owner = owner.replace('\\n', '')\n",
    "    owner = owner.strip()\n",
    "    if owner != '':        \n",
    "        kos_owner_file.write('{}\\n'.format(owner))\n",
    "    else:\n",
    "        kos_owner_file.write('--\\n')\n"
   ]
  },
  {
   "cell_type": "markdown",
   "metadata": {},
   "source": [
    "## Generate excel from files"
   ]
  },
  {
   "cell_type": "code",
   "execution_count": 8,
   "metadata": {},
   "outputs": [],
   "source": [
    "kos_list = open('url_all.txt',  'r',  encoding=\"utf-8\")\n",
    "kos_urls = []\n",
    "for kos in kos_list:\n",
    "    kos_urls.append(kos)\n",
    "        \n",
    "titles, owners, jeniss, alamats, no_hps, no_was = [], [], [], [], [], []"
   ]
  },
  {
   "cell_type": "code",
   "execution_count": 12,
   "metadata": {},
   "outputs": [],
   "source": [
    "def add_data(data):\n",
    "    kos_list = open('url_all.txt',  'r',  encoding=\"utf-8\")\n",
    "    kos_urls = []\n",
    "    for kos in kos_list:\n",
    "        kos_urls.append(kos)\n",
    "        \n",
    "    if data == 'batch1':\n",
    "        urls = kos_urls[:5000]\n",
    "    elif data == 'batch2':\n",
    "        urls = kos_urls[5000:10000]\n",
    "    elif data == 'batch3':\n",
    "        urls = kos_urls[10000:]\n",
    "\n",
    "    kos_title_file = open('.\\\\scraping\\\\{}\\\\title_kos.txt'.format(data),  'r',  encoding=\"utf-8\")\n",
    "    for title in kos_title_file:\n",
    "        titles.append(title)\n",
    "\n",
    "    kos_jenis_file = open('.\\\\scraping\\\\{}\\\\jenis_kos.txt'.format(data),  'r',  encoding=\"utf-8\")\n",
    "    for jenis in kos_jenis_file:\n",
    "        jeniss.append(jenis)\n",
    "\n",
    "    kos_alamat_file = open('.\\\\scraping\\\\{}\\\\alamat_kos.txt'.format(data),  'r',  encoding=\"utf-8\")\n",
    "    for alamat in kos_alamat_file:\n",
    "        alamats.append(alamat)\n",
    "\n",
    "    kos_nohp_file = open('.\\\\scraping\\\\{}\\\\nohp_kos.txt'.format(data),  'r',  encoding=\"utf-8\")\n",
    "    for no_hp in kos_nohp_file:\n",
    "        no_hps.append(no_hp)\n",
    "\n",
    "    kos_nowa_file = open('.\\\\scraping\\\\{}\\\\nowa_kos.txt'.format(data),  'r',  encoding=\"utf-8\")\n",
    "    for no_wa in kos_nowa_file:\n",
    "        no_was.append(no_wa)\n",
    "\n",
    "    kos_owner_file = open('.\\\\scraping\\\\{}\\\\owner_kos.txt'.format(data),  'r',  encoding=\"utf-8\")\n",
    "    for owner in kos_owner_file:\n",
    "        owners.append(owner)"
   ]
  },
  {
   "cell_type": "code",
   "execution_count": 17,
   "metadata": {},
   "outputs": [
    {
     "name": "stdout",
     "output_type": "stream",
     "text": [
      "17575 17575 17575 17575 17575 17575 17575\n"
     ]
    }
   ],
   "source": [
    "add_data('batch1')\n",
    "add_data('batch2')\n",
    "add_data('batch3')\n",
    "\n",
    "print(len(titles), len(jeniss), len(alamats), len(owners), len(no_hps), len(no_was), len(kos_urls))"
   ]
  },
  {
   "cell_type": "code",
   "execution_count": 22,
   "metadata": {},
   "outputs": [],
   "source": [
    "output_path = 'data sewakos.xlsx'\n",
    "pd.DataFrame({'Judul':titles, 'Jenis Kos':jeniss, 'Alamat Kos':alamats, 'Owner Kos':owners, 'No Hp':no_hps, 'No WA':no_was, 'URL Kos':kos_urls}).to_excel(output_path, index=False)"
   ]
  }
 ],
 "metadata": {
  "kernelspec": {
   "display_name": "Python 3.8.8 64-bit",
   "language": "python",
   "name": "python3"
  },
  "language_info": {
   "codemirror_mode": {
    "name": "ipython",
    "version": 3
   },
   "file_extension": ".py",
   "mimetype": "text/x-python",
   "name": "python",
   "nbconvert_exporter": "python",
   "pygments_lexer": "ipython3",
   "version": "3.8.8"
  },
  "orig_nbformat": 4,
  "vscode": {
   "interpreter": {
    "hash": "5bd77b28dae0335d82a29543ac23f66b40c0df6f9ea51368662aa49cd1fb1eb4"
   }
  }
 },
 "nbformat": 4,
 "nbformat_minor": 2
}
